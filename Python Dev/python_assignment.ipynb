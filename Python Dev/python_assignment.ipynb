{
 "cells": [
  {
   "cell_type": "markdown",
   "metadata": {},
   "source": [
    "# Overview\n",
    "This assignment is to test a few key attributes we are looking for in a new team member. Most of these questions are not realistic, however, we hope that they serve as a way for you to demonstrate how you work and organise yourself. The questions are intentionally brief and simple, since we know that this is not the only job opportunity you are exploring."
   ]
  },
  {
   "cell_type": "markdown",
   "metadata": {},
   "source": [
    "### Performance\n",
    "\n",
    "Suppose the `get_resource_identifier` function interrogates some cloud infrastructure to resolve the resource identifier from its name. Note that it takes a long time for the call to finish resolving the name.\n",
    "\n",
    "Now imagine that we need to resolve the resource by its name multiple times during deployment of infrastructure. How can we speed this up without modifying the body of the `get_resource_identifier` function? Remember, you have no control over how quickly the cloud provider can respond to your API call.\n"
   ]
  },
  {
   "cell_type": "code",
   "execution_count": 31,
   "metadata": {},
   "outputs": [
    {
     "name": "stdout",
     "output_type": "stream",
     "text": [
      "Starting Thread 0\n",
      "Starting ThreadStarting Thread  2\n",
      "Starting Thread1\n",
      " 3\n",
      "Starting Thread 4\n",
      "Thread 0 Completed Result: L9UKvnomjq\n",
      "Thread 2 Completed Result: L9UKvnomjq\n",
      "Thread 3 Completed Result:Thread 1 Completed Result: 7U9eyOv7M\n",
      " Not found\n",
      "Thread 4 Completed Result: 7U9eyOv7M\n"
     ]
    }
   ],
   "source": [
    "import time\n",
    "def get_resource_identifier(name):\n",
    "    time.sleep(1)#simulate the delay\n",
    "    if name is 'foo':\n",
    "        return 'L9UKvnomjq'\n",
    "    if name is 'bar':\n",
    "        return '7U9eyOv7M'\n",
    "    return 'Not found'\n",
    "'''\n",
    "for _ in range(0,100):\n",
    "    print(get_resource_identifier('foo'))\n",
    "    print(get_resource_identifier('bar'))\n",
    "    print(get_resource_identifier('foo'))\n",
    "    print(get_resource_identifier('zoo'))\n",
    "    print(get_resource_identifier('bar'))\n",
    "'''\n",
    "\n",
    "import threading\n",
    "class Thread (threading.Thread):\n",
    "    def __init__(self, idx, arg):#threadID, name, counter):\n",
    "        threading.Thread.__init__(self)\n",
    "        self.arg = arg\n",
    "        self.idx = idx\n",
    "        \n",
    "    def run(self):\n",
    "        print (\"Starting Thread\", self.idx)\n",
    "        # Get lock to synchronize threads\n",
    "        #threadLock.acquire()\n",
    "        result = get_resource_identifier(self.arg)\n",
    "        #Free lock to release next thread\n",
    "        #threadLock.release()\n",
    "        print (\"Thread {} Completed Result:\".format(self.idx), result)\n",
    "\n",
    "argsList = ['foo', 'bar', 'foo', 'zoo', 'bar']\n",
    "\n",
    "threadLock = threading.Lock()\n",
    "threads = []\n",
    "\n",
    "idx = 0\n",
    "for arg in argsList:\n",
    "    # Create new threads\n",
    "    th = Thread(idx, arg)\n",
    "    # Start new Threads\n",
    "    th.start()\n",
    "    # Add threads to thread list\n",
    "    threads.append(th)\n",
    "    idx+=1\n",
    "\n",
    "# Wait for all threads to complete\n",
    "for t in threads:\n",
    "    t.join()"
   ]
  },
  {
   "cell_type": "markdown",
   "metadata": {},
   "source": [
    "### Readability and simplicity"
   ]
  },
  {
   "cell_type": "markdown",
   "metadata": {},
   "source": [
    "#### Refactor\n",
    "The section below is an opportunity for you to demonstrate how you refactor code into something simpler and more readable. Refactor the code and write some very simple sanity checks to show that the refactored version is equivalent to the ugly version. You may leave out tests where you think it is not needed."
   ]
  },
  {
   "cell_type": "code",
   "execution_count": 6,
   "metadata": {},
   "outputs": [],
   "source": [
    "# Don't modify this\n",
    "colours = ['blue','green','yellow','black','orange']\n",
    "fruits = ['berry','apple','banana','currant']\n",
    "# All of the rest below you may modify \n",
    "# as you please to achieve the desired output"
   ]
  },
  {
   "cell_type": "code",
   "execution_count": 8,
   "metadata": {},
   "outputs": [
    {
     "name": "stdout",
     "output_type": "stream",
     "text": [
      "orange\n",
      "black\n",
      "yellow\n",
      "green\n",
      "blue\n",
      "orange\n",
      "black\n",
      "yellow\n",
      "green\n",
      "blue\n"
     ]
    }
   ],
   "source": [
    "#ugly\n",
    "for i in range(len(colours)-1,-1,-1):\n",
    "    print(colours[i])\n",
    "\n",
    "#refactor below\n",
    "#reverse the list then loop through reversed list\n",
    "reverseList = colours.reverse()\n",
    "for colour in colours:\n",
    "    print(colour)"
   ]
  },
  {
   "cell_type": "code",
   "execution_count": 19,
   "metadata": {},
   "outputs": [
    {
     "name": "stdout",
     "output_type": "stream",
     "text": [
      "0 orange\n",
      "1 black\n",
      "2 yellow\n",
      "3 green\n",
      "4 blue\n",
      "0 orange\n",
      "1 black\n",
      "2 yellow\n",
      "3 green\n",
      "4 blue\n"
     ]
    }
   ],
   "source": [
    "#ugly\n",
    "for i in range(len(colours)):\n",
    "    print(i,colours[i])\n",
    "    \n",
    "#refactor below\n",
    "idx = 0\n",
    "for colour in colours:\n",
    "    print(idx,colour)\n",
    "    #increase index\n",
    "    idx+=1\n",
    "    "
   ]
  },
  {
   "cell_type": "code",
   "execution_count": 9,
   "metadata": {},
   "outputs": [
    {
     "name": "stdout",
     "output_type": "stream",
     "text": [
      "orange berry\n",
      "black apple\n",
      "yellow banana\n",
      "green currant\n",
      "orange berry\n",
      "black apple\n",
      "yellow banana\n",
      "green currant\n"
     ]
    }
   ],
   "source": [
    "#ugly\n",
    "min_length = min(len(colours),len(fruits))\n",
    "for i in range(min_length):\n",
    "    print(colours[i],fruits[i])\n",
    "    \n",
    "#refactor below\n",
    "lenColours = len(colours)\n",
    "lenFruits = len(fruits)\n",
    "\n",
    "#get list with the smallest length\n",
    "min_length = min(lenColours, lenFruits)\n",
    "\n",
    "for i in range(min_length):\n",
    "    print(colours[i],fruits[i])"
   ]
  },
  {
   "cell_type": "code",
   "execution_count": 16,
   "metadata": {},
   "outputs": [
    {
     "name": "stdout",
     "output_type": "stream",
     "text": [
      "fail\n",
      "fail\n"
     ]
    }
   ],
   "source": [
    "a = 1 \n",
    "b = 5\n",
    "c = 13\n",
    "d = 13\n",
    "f = 25\n",
    "g = 21\n",
    "#ugly\n",
    "#you may deal with these variables in the abstract\n",
    "#you can give them values if you want to do some\n",
    "#sanity checks\n",
    "if a <= b and f <= g and c<=d and d<=f and b<=c:\n",
    "    print('pass')\n",
    "else:\n",
    "    print('fail')\n",
    "    \n",
    "#refactor below\n",
    "#put a to g in a list\n",
    "#a <= b <= c <= d <= f <= g\n",
    "varList = [a, b, c, d, f, g]\n",
    "\n",
    "#order the variable list in acsending order\n",
    "orderedVarList = sorted(varList)\n",
    "\n",
    "#check if original list is equal to sorted version\n",
    "if varList == orderedVarList:\n",
    "    print('pass')\n",
    "else:\n",
    "    print('fail')\n",
    "    "
   ]
  },
  {
   "cell_type": "markdown",
   "metadata": {},
   "source": [
    "#### Implement\n",
    "This section provides an opportunity to demonstrate how you would write some very simple things in a pythonic way."
   ]
  },
  {
   "cell_type": "markdown",
   "metadata": {},
   "source": [
    "Task1:"
   ]
  },
  {
   "cell_type": "code",
   "execution_count": 7,
   "metadata": {},
   "outputs": [
    {
     "name": "stdout",
     "output_type": "stream",
     "text": [
      "blue --> green --> yellow --> black --> orange\n"
     ]
    }
   ],
   "source": [
    "#Generate the following string from the colours list defined above:\n",
    "# 'blue --> green --> yellow --> black --> orange'\n",
    "combineStr = \" --> \".join(colours)\n",
    "print(combineStr)"
   ]
  },
  {
   "cell_type": "markdown",
   "metadata": {},
   "source": [
    "Task2"
   ]
  },
  {
   "cell_type": "code",
   "execution_count": 12,
   "metadata": {},
   "outputs": [
    {
     "name": "stdout",
     "output_type": "stream",
     "text": [
      "Values in first list not present in second list: [8, 9, 9]\n",
      "Values in second list not present in first list: [66, 77]\n",
      "Combine the two lists: [8, 9, 9, 66, 77]\n",
      "Distinct Values: [8, 9, 66, 77]\n",
      "Order list ascending: [8, 9, 66, 77]\n"
     ]
    }
   ],
   "source": [
    "# find the elements that exist in the first list but not the second\n",
    "# and the elements that exist in the second, but not in the first\n",
    "# put this result in into a single list and sort them in ascending order\n",
    "\n",
    "\n",
    "first = [2,2,5,6,7,2,1,8,9,9]\n",
    "second = [2,1,5,6,66,7,77]\n",
    "\n",
    "#solution\n",
    "#values in first list no present in second list\n",
    "first_not_second = [val for val in first if val not in second]\n",
    "print(\"Values in first list not present in second list:\", first_not_second)\n",
    "\n",
    "#values in second list no present in first list\n",
    "second_not_first = [val for val in second if val not in first]\n",
    "print(\"Values in second list not present in first list:\", second_not_first)\n",
    "\n",
    "#combine the two lists\n",
    "combinedList = first_not_second + second_not_first\n",
    "print(\"Combine the two lists:\", combinedList)\n",
    "\n",
    "#distinct values\n",
    "distinctList = list(set(combinedList))\n",
    "print(\"Distinct Values:\", distinctList)\n",
    "\n",
    "#order list\n",
    "distinctList.sort()\n",
    "print(\"Order list ascending:\", distinctList)\n"
   ]
  },
  {
   "cell_type": "code",
   "execution_count": null,
   "metadata": {},
   "outputs": [],
   "source": []
  }
 ],
 "metadata": {
  "kernelspec": {
   "display_name": "Python 3",
   "language": "python",
   "name": "python3"
  },
  "language_info": {
   "codemirror_mode": {
    "name": "ipython",
    "version": 3
   },
   "file_extension": ".py",
   "mimetype": "text/x-python",
   "name": "python",
   "nbconvert_exporter": "python",
   "pygments_lexer": "ipython3",
   "version": "3.7.4"
  }
 },
 "nbformat": 4,
 "nbformat_minor": 2
}
